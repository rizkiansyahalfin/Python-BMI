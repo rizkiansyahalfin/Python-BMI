{
 "cells": [
  {
   "cell_type": "code",
   "execution_count": 8,
   "metadata": {},
   "outputs": [
    {
     "name": "stdout",
     "output_type": "stream",
     "text": [
      "Masukkan tinggi badan (M): 1.55\n",
      "Masukkan berat badan (Kg): 61\n",
      "BMI Anda adalah: 25.390218522372525 dan keterangannya adalah: Berat badan berlebih (kecenderungan obesitas)\n"
     ]
    }
   ],
   "source": [
    "tinggi = float(input(\"Masukkan tinggi badan (M): \"))\n",
    "bobot = float(input(\"Masukkan berat badan (Kg): \"))\n",
    "bmi = bobot / (tinggi**2)\n",
    "print(\"BMI Anda adalah: {0} dan keterangannya adalah: \".format(bmi), end='')\n",
    "if (bmi < 16):\n",
    "    print(\"Berat badan sangat kurang\")\n",
    "elif (bmi >= 16 and bmi < 18.5):\n",
    "    print(\"Berat badan kurang\")\n",
    "elif (bmi >=18.5 and bmi <= 22.9):\n",
    "    print(\"Berat badan normal\")\n",
    "elif (bmi >= 23 and bmi < 30 ):\n",
    "    print(\"Berat badan berlebih (kecenderungan obesitas)\")\n",
    "elif (bmi >= 30):\n",
    "    print(\"Obesitas\")"
   ]
  },
  {
   "cell_type": "code",
   "execution_count": null,
   "metadata": {},
   "outputs": [],
   "source": []
  },
  {
   "cell_type": "code",
   "execution_count": null,
   "metadata": {},
   "outputs": [],
   "source": []
  }
 ],
 "metadata": {
  "kernelspec": {
   "display_name": "Python 3",
   "language": "python",
   "name": "python3"
  },
  "language_info": {
   "codemirror_mode": {
    "name": "ipython",
    "version": 3
   },
   "file_extension": ".py",
   "mimetype": "text/x-python",
   "name": "python",
   "nbconvert_exporter": "python",
   "pygments_lexer": "ipython3",
   "version": "3.7.1"
  }
 },
 "nbformat": 4,
 "nbformat_minor": 2
}
